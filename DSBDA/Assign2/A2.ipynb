{
  "cells": [
    {
      "cell_type": "code",
      "execution_count": 1,
      "metadata": {
        "id": "Lr0f2qAih_aD"
      },
      "outputs": [],
      "source": [
        "import pandas as pd\n",
        "import numpy as np\n",
        "import matplotlib.pyplot as plt\n",
        "import seaborn as sns"
      ]
    },
    {
      "cell_type": "code",
      "execution_count": 2,
      "metadata": {
        "id": "JxjF3SgCmYTB"
      },
      "outputs": [],
      "source": [
        "df = pd.read_csv('Academic Performance.csv')"
      ]
    },
    {
      "cell_type": "code",
      "execution_count": 3,
      "metadata": {
        "colab": {
          "base_uri": "https://localhost:8080/",
          "height": 300
        },
        "id": "zZmnfB1nme0g",
        "outputId": "e2233d70-8570-4821-a3fa-d634c8d4cdf2"
      },
      "outputs": [
        {
          "data": {
            "text/html": [
              "\n",
              "  <div id=\"df-b10e092f-7751-4319-ad96-087bb6fd2cd4\">\n",
              "    <div class=\"colab-df-container\">\n",
              "      <div>\n",
              "<style scoped>\n",
              "    .dataframe tbody tr th:only-of-type {\n",
              "        vertical-align: middle;\n",
              "    }\n",
              "\n",
              "    .dataframe tbody tr th {\n",
              "        vertical-align: top;\n",
              "    }\n",
              "\n",
              "    .dataframe thead th {\n",
              "        text-align: right;\n",
              "    }\n",
              "</style>\n",
              "<table border=\"1\" class=\"dataframe\">\n",
              "  <thead>\n",
              "    <tr style=\"text-align: right;\">\n",
              "      <th></th>\n",
              "      <th>Unnamed: 0</th>\n",
              "      <th>Physics</th>\n",
              "      <th>Mathematics</th>\n",
              "      <th>Chemistry</th>\n",
              "      <th>AI</th>\n",
              "      <th>Term Work</th>\n",
              "    </tr>\n",
              "  </thead>\n",
              "  <tbody>\n",
              "    <tr>\n",
              "      <th>count</th>\n",
              "      <td>784.000000</td>\n",
              "      <td>675.000000</td>\n",
              "      <td>695.000000</td>\n",
              "      <td>784.000000</td>\n",
              "      <td>684.000000</td>\n",
              "      <td>784.000000</td>\n",
              "    </tr>\n",
              "    <tr>\n",
              "      <th>mean</th>\n",
              "      <td>391.500000</td>\n",
              "      <td>58.491852</td>\n",
              "      <td>55.071655</td>\n",
              "      <td>71.267092</td>\n",
              "      <td>57.170760</td>\n",
              "      <td>5.600765</td>\n",
              "    </tr>\n",
              "    <tr>\n",
              "      <th>std</th>\n",
              "      <td>226.465597</td>\n",
              "      <td>23.926219</td>\n",
              "      <td>28.839885</td>\n",
              "      <td>64.217161</td>\n",
              "      <td>28.555803</td>\n",
              "      <td>2.833849</td>\n",
              "    </tr>\n",
              "    <tr>\n",
              "      <th>min</th>\n",
              "      <td>0.000000</td>\n",
              "      <td>2.000000</td>\n",
              "      <td>1.000000</td>\n",
              "      <td>1.000000</td>\n",
              "      <td>1.200000</td>\n",
              "      <td>1.000000</td>\n",
              "    </tr>\n",
              "    <tr>\n",
              "      <th>25%</th>\n",
              "      <td>195.750000</td>\n",
              "      <td>43.000000</td>\n",
              "      <td>29.000000</td>\n",
              "      <td>36.000000</td>\n",
              "      <td>33.275000</td>\n",
              "      <td>3.000000</td>\n",
              "    </tr>\n",
              "    <tr>\n",
              "      <th>50%</th>\n",
              "      <td>391.500000</td>\n",
              "      <td>58.000000</td>\n",
              "      <td>59.000000</td>\n",
              "      <td>56.500000</td>\n",
              "      <td>62.000000</td>\n",
              "      <td>6.000000</td>\n",
              "    </tr>\n",
              "    <tr>\n",
              "      <th>75%</th>\n",
              "      <td>587.250000</td>\n",
              "      <td>78.000000</td>\n",
              "      <td>78.500000</td>\n",
              "      <td>74.825000</td>\n",
              "      <td>81.000000</td>\n",
              "      <td>8.000000</td>\n",
              "    </tr>\n",
              "    <tr>\n",
              "      <th>max</th>\n",
              "      <td>783.000000</td>\n",
              "      <td>100.000000</td>\n",
              "      <td>100.000000</td>\n",
              "      <td>300.000000</td>\n",
              "      <td>100.000000</td>\n",
              "      <td>10.000000</td>\n",
              "    </tr>\n",
              "  </tbody>\n",
              "</table>\n",
              "</div>\n",
              "      <button class=\"colab-df-convert\" onclick=\"convertToInteractive('df-b10e092f-7751-4319-ad96-087bb6fd2cd4')\"\n",
              "              title=\"Convert this dataframe to an interactive table.\"\n",
              "              style=\"display:none;\">\n",
              "        \n",
              "  <svg xmlns=\"http://www.w3.org/2000/svg\" height=\"24px\"viewBox=\"0 0 24 24\"\n",
              "       width=\"24px\">\n",
              "    <path d=\"M0 0h24v24H0V0z\" fill=\"none\"/>\n",
              "    <path d=\"M18.56 5.44l.94 2.06.94-2.06 2.06-.94-2.06-.94-.94-2.06-.94 2.06-2.06.94zm-11 1L8.5 8.5l.94-2.06 2.06-.94-2.06-.94L8.5 2.5l-.94 2.06-2.06.94zm10 10l.94 2.06.94-2.06 2.06-.94-2.06-.94-.94-2.06-.94 2.06-2.06.94z\"/><path d=\"M17.41 7.96l-1.37-1.37c-.4-.4-.92-.59-1.43-.59-.52 0-1.04.2-1.43.59L10.3 9.45l-7.72 7.72c-.78.78-.78 2.05 0 2.83L4 21.41c.39.39.9.59 1.41.59.51 0 1.02-.2 1.41-.59l7.78-7.78 2.81-2.81c.8-.78.8-2.07 0-2.86zM5.41 20L4 18.59l7.72-7.72 1.47 1.35L5.41 20z\"/>\n",
              "  </svg>\n",
              "      </button>\n",
              "      \n",
              "  <style>\n",
              "    .colab-df-container {\n",
              "      display:flex;\n",
              "      flex-wrap:wrap;\n",
              "      gap: 12px;\n",
              "    }\n",
              "\n",
              "    .colab-df-convert {\n",
              "      background-color: #E8F0FE;\n",
              "      border: none;\n",
              "      border-radius: 50%;\n",
              "      cursor: pointer;\n",
              "      display: none;\n",
              "      fill: #1967D2;\n",
              "      height: 32px;\n",
              "      padding: 0 0 0 0;\n",
              "      width: 32px;\n",
              "    }\n",
              "\n",
              "    .colab-df-convert:hover {\n",
              "      background-color: #E2EBFA;\n",
              "      box-shadow: 0px 1px 2px rgba(60, 64, 67, 0.3), 0px 1px 3px 1px rgba(60, 64, 67, 0.15);\n",
              "      fill: #174EA6;\n",
              "    }\n",
              "\n",
              "    [theme=dark] .colab-df-convert {\n",
              "      background-color: #3B4455;\n",
              "      fill: #D2E3FC;\n",
              "    }\n",
              "\n",
              "    [theme=dark] .colab-df-convert:hover {\n",
              "      background-color: #434B5C;\n",
              "      box-shadow: 0px 1px 3px 1px rgba(0, 0, 0, 0.15);\n",
              "      filter: drop-shadow(0px 1px 2px rgba(0, 0, 0, 0.3));\n",
              "      fill: #FFFFFF;\n",
              "    }\n",
              "  </style>\n",
              "\n",
              "      <script>\n",
              "        const buttonEl =\n",
              "          document.querySelector('#df-b10e092f-7751-4319-ad96-087bb6fd2cd4 button.colab-df-convert');\n",
              "        buttonEl.style.display =\n",
              "          google.colab.kernel.accessAllowed ? 'block' : 'none';\n",
              "\n",
              "        async function convertToInteractive(key) {\n",
              "          const element = document.querySelector('#df-b10e092f-7751-4319-ad96-087bb6fd2cd4');\n",
              "          const dataTable =\n",
              "            await google.colab.kernel.invokeFunction('convertToInteractive',\n",
              "                                                     [key], {});\n",
              "          if (!dataTable) return;\n",
              "\n",
              "          const docLinkHtml = 'Like what you see? Visit the ' +\n",
              "            '<a target=\"_blank\" href=https://colab.research.google.com/notebooks/data_table.ipynb>data table notebook</a>'\n",
              "            + ' to learn more about interactive tables.';\n",
              "          element.innerHTML = '';\n",
              "          dataTable['output_type'] = 'display_data';\n",
              "          await google.colab.output.renderOutput(dataTable, element);\n",
              "          const docLink = document.createElement('div');\n",
              "          docLink.innerHTML = docLinkHtml;\n",
              "          element.appendChild(docLink);\n",
              "        }\n",
              "      </script>\n",
              "    </div>\n",
              "  </div>\n",
              "  "
            ],
            "text/plain": [
              "       Unnamed: 0     Physics  Mathematics   Chemistry          AI   Term Work\n",
              "count  784.000000  675.000000   695.000000  784.000000  684.000000  784.000000\n",
              "mean   391.500000   58.491852    55.071655   71.267092   57.170760    5.600765\n",
              "std    226.465597   23.926219    28.839885   64.217161   28.555803    2.833849\n",
              "min      0.000000    2.000000     1.000000    1.000000    1.200000    1.000000\n",
              "25%    195.750000   43.000000    29.000000   36.000000   33.275000    3.000000\n",
              "50%    391.500000   58.000000    59.000000   56.500000   62.000000    6.000000\n",
              "75%    587.250000   78.000000    78.500000   74.825000   81.000000    8.000000\n",
              "max    783.000000  100.000000   100.000000  300.000000  100.000000   10.000000"
            ]
          },
          "execution_count": 3,
          "metadata": {},
          "output_type": "execute_result"
        }
      ],
      "source": [
        "df.describe()"
      ]
    },
    {
      "cell_type": "code",
      "execution_count": 4,
      "metadata": {
        "colab": {
          "base_uri": "https://localhost:8080/",
          "height": 0
        },
        "id": "d0XLuqXHmgdw",
        "outputId": "39e1055c-6cd7-4c20-c264-c7986ba3333a"
      },
      "outputs": [
        {
          "name": "stdout",
          "output_type": "stream",
          "text": [
            "<class 'pandas.core.frame.DataFrame'>\n",
            "RangeIndex: 784 entries, 0 to 783\n",
            "Data columns (total 9 columns):\n",
            " #   Column        Non-Null Count  Dtype  \n",
            "---  ------        --------------  -----  \n",
            " 0   Unnamed: 0    784 non-null    int64  \n",
            " 1   Student Name  784 non-null    object \n",
            " 2   Department    784 non-null    object \n",
            " 3   Physics       675 non-null    float64\n",
            " 4   Mathematics   695 non-null    float64\n",
            " 5   Chemistry     784 non-null    float64\n",
            " 6   AI            684 non-null    float64\n",
            " 7   Term Work     784 non-null    int64  \n",
            " 8   DOB           784 non-null    object \n",
            "dtypes: float64(4), int64(2), object(3)\n",
            "memory usage: 55.2+ KB\n"
          ]
        }
      ],
      "source": [
        "df.info()"
      ]
    },
    {
      "cell_type": "code",
      "execution_count": 5,
      "metadata": {
        "colab": {
          "base_uri": "https://localhost:8080/",
          "height": 0
        },
        "id": "uHZVr5GUmiwo",
        "outputId": "3a0ba858-a10f-491b-df5a-97e242a7774e"
      },
      "outputs": [
        {
          "data": {
            "text/plain": [
              "Unnamed: 0      784\n",
              "Student Name    784\n",
              "Department      784\n",
              "Physics         675\n",
              "Mathematics     695\n",
              "Chemistry       784\n",
              "AI              684\n",
              "Term Work       784\n",
              "DOB             784\n",
              "dtype: int64"
            ]
          },
          "execution_count": 5,
          "metadata": {},
          "output_type": "execute_result"
        }
      ],
      "source": [
        "df.count()"
      ]
    },
    {
      "cell_type": "code",
      "execution_count": 6,
      "metadata": {
        "colab": {
          "base_uri": "https://localhost:8080/",
          "height": 0
        },
        "id": "DknWJl0VmlNq",
        "outputId": "07f044eb-441c-4b13-a636-b4d5435f7a4f"
      },
      "outputs": [
        {
          "data": {
            "text/plain": [
              "Unnamed: 0        0\n",
              "Student Name      0\n",
              "Department        0\n",
              "Physics         109\n",
              "Mathematics      89\n",
              "Chemistry         0\n",
              "AI              100\n",
              "Term Work         0\n",
              "DOB               0\n",
              "dtype: int64"
            ]
          },
          "execution_count": 6,
          "metadata": {},
          "output_type": "execute_result"
        }
      ],
      "source": [
        "df.isnull().sum()"
      ]
    },
    {
      "attachments": {},
      "cell_type": "markdown",
      "metadata": {
        "id": "nWesMiDcm_4Q"
      },
      "source": [
        "**Treating Null Values**"
      ]
    },
    {
      "cell_type": "code",
      "execution_count": 7,
      "metadata": {
        "id": "JFQqHnbZmqGh"
      },
      "outputs": [],
      "source": [
        "df['Physics'].fillna(value=df['Physics'].mean(),inplace=True)\n",
        "df['Chemistry'].fillna(value=df['Chemistry'].mean(),inplace=True)\n",
        "df['Mathematics'].fillna(value=df['Mathematics'].mean(),inplace=True)\n",
        "df['AI'].fillna(value=df['AI'].mean(),inplace=True)"
      ]
    },
    {
      "cell_type": "code",
      "execution_count": 8,
      "metadata": {
        "colab": {
          "base_uri": "https://localhost:8080/",
          "height": 0
        },
        "id": "rCWzk8mcnUE1",
        "outputId": "82c5d01d-8a3d-41b0-bb00-fb84443b9822"
      },
      "outputs": [
        {
          "data": {
            "text/plain": [
              "Unnamed: 0      0\n",
              "Student Name    0\n",
              "Department      0\n",
              "Physics         0\n",
              "Mathematics     0\n",
              "Chemistry       0\n",
              "AI              0\n",
              "Term Work       0\n",
              "DOB             0\n",
              "dtype: int64"
            ]
          },
          "execution_count": 8,
          "metadata": {},
          "output_type": "execute_result"
        }
      ],
      "source": [
        "df.isnull().sum()"
      ]
    },
    {
      "attachments": {},
      "cell_type": "markdown",
      "metadata": {
        "id": "u6-Jal2Lno8K"
      },
      "source": [
        "**Detecting any Outliers**"
      ]
    },
    {
      "cell_type": "code",
      "execution_count": 9,
      "metadata": {
        "colab": {
          "base_uri": "https://localhost:8080/",
          "height": 447
        },
        "id": "ZJG27X2Kngfm",
        "outputId": "e850d2a6-1ff1-4b66-fe6c-fb0b258f3d25"
      },
      "outputs": [
        {
          "data": {
            "text/plain": [
              "<Axes: >"
            ]
          },
          "execution_count": 9,
          "metadata": {},
          "output_type": "execute_result"
        },
        {
          "data": {
            "image/png": "[encoded data removed]",
            "text/plain": [
              "<Figure size 640x480 with 1 Axes>"
            ]
          },
          "metadata": {},
          "output_type": "display_data"
        }
      ],
      "source": [
        "sns.boxplot(df['Physics'])"
      ]
    },
    {
      "cell_type": "code",
      "execution_count": 10,
      "metadata": {
        "colab": {
          "base_uri": "https://localhost:8080/",
          "height": 447
        },
        "id": "p38POhIe1oxs",
        "outputId": "81869e2c-c6ed-4a86-806e-ed75c2a1e811"
      },
      "outputs": [
        {
          "data": {
            "text/plain": [
              "<Axes: >"
            ]
          },
          "execution_count": 10,
          "metadata": {},
          "output_type": "execute_result"
        },
        {
          "data": {
            "image/png": "[encoded data removed]",
            "text/plain": [
              "<Figure size 640x480 with 1 Axes>"
            ]
          },
          "metadata": {},
          "output_type": "display_data"
        }
      ],
      "source": [
        "sns.boxplot(df['Chemistry'])"
      ]
    },
    {
      "cell_type": "code",
      "execution_count": 11,
      "metadata": {
        "colab": {
          "base_uri": "https://localhost:8080/",
          "height": 447
        },
        "id": "fcd4-Iv01ytI",
        "outputId": "ce66e299-de16-44fa-e7fa-16fae9ad0e78"
      },
      "outputs": [
        {
          "data": {
            "text/plain": [
              "<Axes: >"
            ]
          },
          "execution_count": 11,
          "metadata": {},
          "output_type": "execute_result"
        },
        {
          "data": {
            "image/png": "[encoded data removed]",
            "text/plain": [
              "<Figure size 640x480 with 1 Axes>"
            ]
          },
          "metadata": {},
          "output_type": "display_data"
        }
      ],
      "source": [
        "sns.boxplot(df['Mathematics'])"
      ]
    },
    {
      "cell_type": "code",
      "execution_count": 12,
      "metadata": {
        "colab": {
          "base_uri": "https://localhost:8080/",
          "height": 447
        },
        "id": "jgYegKce19g6",
        "outputId": "e3fe819c-7bcc-408e-f947-fb0282d91f85"
      },
      "outputs": [
        {
          "data": {
            "text/plain": [
              "<Axes: >"
            ]
          },
          "execution_count": 12,
          "metadata": {},
          "output_type": "execute_result"
        },
        {
          "data": {
            "image/png": "[encoded data removed]",
            "text/plain": [
              "<Figure size 640x480 with 1 Axes>"
            ]
          },
          "metadata": {},
          "output_type": "display_data"
        }
      ],
      "source": [
        "sns.boxplot(df['AI'])"
      ]
    },
    {
      "attachments": {},
      "cell_type": "markdown",
      "metadata": {
        "id": "Ch0q5ezl2EEj"
      },
      "source": [
        "From above boxplot we can see that we have outlier for only Chemistry Subject"
      ]
    },
    {
      "attachments": {},
      "cell_type": "markdown",
      "metadata": {
        "id": "wuvhbwuH7DKK"
      },
      "source": [
        "# Treating Outliers of Chemistry using IQR"
      ]
    },
    {
      "cell_type": "code",
      "execution_count": 15,
      "metadata": {
        "colab": {
          "base_uri": "https://localhost:8080/",
          "height": 0
        },
        "id": "fncbJQ9F5WdO",
        "outputId": "7f4d3d14-1a07-4127-f823-5c4cae54925e"
      },
      "outputs": [
        {
          "name": "stdout",
          "output_type": "stream",
          "text": [
            "Old shape of Dataset : (784, 9)\n",
            "New shape of dataset :(689, 9)\n"
          ]
        },
        {
          "name": "stderr",
          "output_type": "stream",
          "text": [
            "<ipython-input-15-faca12b6f361>:1: DeprecationWarning: the `interpolation=` argument to percentile was renamed to `method=`, which has additional options.\n",
            "Users of the modes 'nearest', 'lower', 'higher', or 'midpoint' are encouraged to review the method they. (Deprecated NumPy 1.22)\n",
            "  Q1 = np.percentile(df['Chemistry'], 25, interpolation='midpoint')\n",
            "<ipython-input-15-faca12b6f361>:2: DeprecationWarning: the `interpolation=` argument to percentile was renamed to `method=`, which has additional options.\n",
            "Users of the modes 'nearest', 'lower', 'higher', or 'midpoint' are encouraged to review the method they. (Deprecated NumPy 1.22)\n",
            "  Q2 = np.percentile(df['Chemistry'], 75, interpolation = 'midpoint')\n"
          ]
        }
      ],
      "source": [
        "Q1 = np.percentile(df['Chemistry'], 25, interpolation='midpoint')\n",
        "Q2 = np.percentile(df['Chemistry'], 75, interpolation = 'midpoint')\n",
        "IQR = Q2-Q1\n",
        "\n",
        "print(\"Old shape of Dataset : {}\".format(df.shape))\n",
        "\n",
        "#Upper Bound\n",
        "upper = np.where(df['Chemistry'] >= (Q2+ 1.5*IQR))\n",
        "\n",
        "#lowerr Bound\n",
        "lower = np.where(df['Chemistry'] <= (Q1-1.5*IQR))\n",
        "\n",
        "df.drop(upper[0],inplace=True)\n",
        "df.drop(lower[0],inplace=True)\n",
        "\n",
        "print(\"New shape of dataset :{}\".format(df.shape))"
      ]
    },
    {
      "attachments": {},
      "cell_type": "markdown",
      "metadata": {
        "id": "yHVXkSAn8EQj"
      },
      "source": [
        "**Checking once if there any outlier left**"
      ]
    },
    {
      "cell_type": "code",
      "execution_count": 17,
      "metadata": {
        "colab": {
          "base_uri": "https://localhost:8080/",
          "height": 447
        },
        "id": "liMEfQlY8C66",
        "outputId": "6c24bbec-f07a-4342-8458-01c6690a5363"
      },
      "outputs": [
        {
          "data": {
            "text/plain": [
              "<Axes: >"
            ]
          },
          "execution_count": 17,
          "metadata": {},
          "output_type": "execute_result"
        },
        {
          "data": {
            "image/png": "[encoded data removed]",
            "text/plain": [
              "<Figure size 640x480 with 1 Axes>"
            ]
          },
          "metadata": {},
          "output_type": "display_data"
        }
      ],
      "source": [
        "sns.boxplot(df['Physics'])"
      ]
    },
    {
      "cell_type": "code",
      "execution_count": 18,
      "metadata": {
        "colab": {
          "base_uri": "https://localhost:8080/",
          "height": 447
        },
        "id": "ls_vm3NF8OTd",
        "outputId": "bac40ac6-f50c-4430-efb7-9e461b2ef49d"
      },
      "outputs": [
        {
          "data": {
            "text/plain": [
              "<Axes: >"
            ]
          },
          "execution_count": 18,
          "metadata": {},
          "output_type": "execute_result"
        },
        {
          "data": {
            "image/png": "[encoded data removed]",
            "text/plain": [
              "<Figure size 640x480 with 1 Axes>"
            ]
          },
          "metadata": {},
          "output_type": "display_data"
        }
      ],
      "source": [
        "sns.boxplot(df['Chemistry'])"
      ]
    },
    {
      "cell_type": "code",
      "execution_count": 19,
      "metadata": {
        "colab": {
          "base_uri": "https://localhost:8080/",
          "height": 447
        },
        "id": "f0y2QL5z8TGK",
        "outputId": "6578f157-d6ff-438a-f44e-cf160d37400c"
      },
      "outputs": [
        {
          "data": {
            "text/plain": [
              "<Axes: >"
            ]
          },
          "execution_count": 19,
          "metadata": {},
          "output_type": "execute_result"
        },
        {
          "data": {
            "image/png": "[encoded data removed]",
            "text/plain": [
              "<Figure size 640x480 with 1 Axes>"
            ]
          },
          "metadata": {},
          "output_type": "display_data"
        }
      ],
      "source": [
        "sns.boxplot(df['Mathematics'])"
      ]
    },
    {
      "cell_type": "code",
      "execution_count": 20,
      "metadata": {
        "colab": {
          "base_uri": "https://localhost:8080/",
          "height": 447
        },
        "id": "6ff7H3q08WG9",
        "outputId": "cd803541-086e-4806-a67e-719a0b874ecb"
      },
      "outputs": [
        {
          "data": {
            "text/plain": [
              "<Axes: >"
            ]
          },
          "execution_count": 20,
          "metadata": {},
          "output_type": "execute_result"
        },
        {
          "data": {
            "image/png": "[encoded data removed]",
            "text/plain": [
              "<Figure size 640x480 with 1 Axes>"
            ]
          },
          "metadata": {},
          "output_type": "display_data"
        }
      ],
      "source": [
        "sns.boxplot(df['AI'])"
      ]
    },
    {
      "attachments": {},
      "cell_type": "markdown",
      "metadata": {
        "id": "UgN85vjx8pLv"
      },
      "source": [
        "# **Data Transformation**"
      ]
    },
    {
      "cell_type": "code",
      "execution_count": 28,
      "metadata": {
        "id": "7z0phswQi9fN"
      },
      "outputs": [],
      "source": [
        "import locale"
      ]
    },
    {
      "cell_type": "code",
      "execution_count": 22,
      "metadata": {
        "colab": {
          "base_uri": "https://localhost:8080/",
          "height": 0
        },
        "id": "VMBKKvCviCjc",
        "outputId": "0729947f-a79d-4cc5-ad8a-eaa28c2ba8da"
      },
      "outputs": [
        {
          "name": "stdout",
          "output_type": "stream",
          "text": [
            "<class 'pandas.core.frame.DataFrame'>\n",
            "Int64Index: 689 entries, 0 to 783\n",
            "Data columns (total 9 columns):\n",
            " #   Column        Non-Null Count  Dtype  \n",
            "---  ------        --------------  -----  \n",
            " 0   Unnamed: 0    689 non-null    int64  \n",
            " 1   Student Name  689 non-null    object \n",
            " 2   Department    689 non-null    object \n",
            " 3   Physics       689 non-null    float64\n",
            " 4   Mathematics   689 non-null    float64\n",
            " 5   Chemistry     689 non-null    float64\n",
            " 6   AI            689 non-null    float64\n",
            " 7   Term Work     689 non-null    int64  \n",
            " 8   DOB           689 non-null    object \n",
            "dtypes: float64(4), int64(2), object(3)\n",
            "memory usage: 70.0+ KB\n"
          ]
        }
      ],
      "source": [
        "df.info()"
      ]
    },
    {
      "cell_type": "code",
      "execution_count": 23,
      "metadata": {
        "id": "DuHGOBOeiDA6"
      },
      "outputs": [],
      "source": [
        "\n",
        "\n",
        "df['DOB'] = pd.to_datetime(df['DOB'])"
      ]
    },
    {
      "cell_type": "code",
      "execution_count": 24,
      "metadata": {
        "colab": {
          "base_uri": "https://localhost:8080/",
          "height": 0
        },
        "id": "NWVUnTqFiDEU",
        "outputId": "f2da50a6-2df7-471d-946f-8e9766026001"
      },
      "outputs": [
        {
          "name": "stdout",
          "output_type": "stream",
          "text": [
            "<class 'pandas.core.frame.DataFrame'>\n",
            "Int64Index: 689 entries, 0 to 783\n",
            "Data columns (total 9 columns):\n",
            " #   Column        Non-Null Count  Dtype         \n",
            "---  ------        --------------  -----         \n",
            " 0   Unnamed: 0    689 non-null    int64         \n",
            " 1   Student Name  689 non-null    object        \n",
            " 2   Department    689 non-null    object        \n",
            " 3   Physics       689 non-null    float64       \n",
            " 4   Mathematics   689 non-null    float64       \n",
            " 5   Chemistry     689 non-null    float64       \n",
            " 6   AI            689 non-null    float64       \n",
            " 7   Term Work     689 non-null    int64         \n",
            " 8   DOB           689 non-null    datetime64[ns]\n",
            "dtypes: datetime64[ns](1), float64(4), int64(2), object(2)\n",
            "memory usage: 70.0+ KB\n"
          ]
        }
      ],
      "source": [
        "df.info()"
      ]
    },
    {
      "cell_type": "code",
      "execution_count": 32,
      "metadata": {
        "id": "yjGSoX8LibDv"
      },
      "outputs": [],
      "source": [
        "df['Birth_Year'] = df['DOB'].dt.year         \n",
        "df['Birth_months'] = df['DOB'].dt.month      \n"
      ]
    },
    {
      "cell_type": "code",
      "execution_count": 33,
      "metadata": {
        "colab": {
          "base_uri": "https://localhost:8080/",
          "height": 423
        },
        "id": "IlU2HUbzi0Lo",
        "outputId": "9b9e2daf-7e01-44f3-c693-dd6dd7216e3f"
      },
      "outputs": [
        {
          "data": {
            "text/html": [
              "\n",
              "  <div id=\"df-5824c408-f392-4178-9136-adddebe7e3f2\">\n",
              "    <div class=\"colab-df-container\">\n",
              "      <div>\n",
              "<style scoped>\n",
              "    .dataframe tbody tr th:only-of-type {\n",
              "        vertical-align: middle;\n",
              "    }\n",
              "\n",
              "    .dataframe tbody tr th {\n",
              "        vertical-align: top;\n",
              "    }\n",
              "\n",
              "    .dataframe thead th {\n",
              "        text-align: right;\n",
              "    }\n",
              "</style>\n",
              "<table border=\"1\" class=\"dataframe\">\n",
              "  <thead>\n",
              "    <tr style=\"text-align: right;\">\n",
              "      <th></th>\n",
              "      <th>Unnamed: 0</th>\n",
              "      <th>Student Name</th>\n",
              "      <th>Department</th>\n",
              "      <th>Physics</th>\n",
              "      <th>Mathematics</th>\n",
              "      <th>Chemistry</th>\n",
              "      <th>AI</th>\n",
              "      <th>Term Work</th>\n",
              "      <th>DOB</th>\n",
              "      <th>Birth_Year</th>\n",
              "      <th>Birth_months</th>\n",
              "    </tr>\n",
              "  </thead>\n",
              "  <tbody>\n",
              "    <tr>\n",
              "      <th>0</th>\n",
              "      <td>0</td>\n",
              "      <td>Theresa Blue</td>\n",
              "      <td>COMPUTER</td>\n",
              "      <td>62.000000</td>\n",
              "      <td>4.000000</td>\n",
              "      <td>64.1</td>\n",
              "      <td>74.0</td>\n",
              "      <td>8</td>\n",
              "      <td>2003-02-19</td>\n",
              "      <td>2003</td>\n",
              "      <td>2</td>\n",
              "    </tr>\n",
              "    <tr>\n",
              "      <th>3</th>\n",
              "      <td>3</td>\n",
              "      <td>Diane Griffin</td>\n",
              "      <td>ENTC</td>\n",
              "      <td>58.000000</td>\n",
              "      <td>69.000000</td>\n",
              "      <td>53.0</td>\n",
              "      <td>21.6</td>\n",
              "      <td>7</td>\n",
              "      <td>2001-04-05</td>\n",
              "      <td>2001</td>\n",
              "      <td>4</td>\n",
              "    </tr>\n",
              "    <tr>\n",
              "      <th>6</th>\n",
              "      <td>6</td>\n",
              "      <td>Darnell Arredondo</td>\n",
              "      <td>COMPUTER</td>\n",
              "      <td>72.000000</td>\n",
              "      <td>30.000000</td>\n",
              "      <td>20.0</td>\n",
              "      <td>19.1</td>\n",
              "      <td>10</td>\n",
              "      <td>2003-05-14</td>\n",
              "      <td>2003</td>\n",
              "      <td>5</td>\n",
              "    </tr>\n",
              "    <tr>\n",
              "      <th>7</th>\n",
              "      <td>7</td>\n",
              "      <td>Twyla Brown</td>\n",
              "      <td>COMPUTER</td>\n",
              "      <td>47.000000</td>\n",
              "      <td>46.600000</td>\n",
              "      <td>61.6</td>\n",
              "      <td>85.0</td>\n",
              "      <td>9</td>\n",
              "      <td>2003-04-03</td>\n",
              "      <td>2003</td>\n",
              "      <td>4</td>\n",
              "    </tr>\n",
              "    <tr>\n",
              "      <th>8</th>\n",
              "      <td>8</td>\n",
              "      <td>Fernando Lai</td>\n",
              "      <td>COMPUTER</td>\n",
              "      <td>58.491852</td>\n",
              "      <td>4.000000</td>\n",
              "      <td>68.2</td>\n",
              "      <td>33.2</td>\n",
              "      <td>2</td>\n",
              "      <td>2002-03-28</td>\n",
              "      <td>2002</td>\n",
              "      <td>3</td>\n",
              "    </tr>\n",
              "    <tr>\n",
              "      <th>...</th>\n",
              "      <td>...</td>\n",
              "      <td>...</td>\n",
              "      <td>...</td>\n",
              "      <td>...</td>\n",
              "      <td>...</td>\n",
              "      <td>...</td>\n",
              "      <td>...</td>\n",
              "      <td>...</td>\n",
              "      <td>...</td>\n",
              "      <td>...</td>\n",
              "      <td>...</td>\n",
              "    </tr>\n",
              "    <tr>\n",
              "      <th>777</th>\n",
              "      <td>777</td>\n",
              "      <td>Michelle Brown</td>\n",
              "      <td>COMPUTER</td>\n",
              "      <td>58.491852</td>\n",
              "      <td>55.071655</td>\n",
              "      <td>37.0</td>\n",
              "      <td>27.1</td>\n",
              "      <td>3</td>\n",
              "      <td>2002-02-03</td>\n",
              "      <td>2002</td>\n",
              "      <td>2</td>\n",
              "    </tr>\n",
              "    <tr>\n",
              "      <th>779</th>\n",
              "      <td>779</td>\n",
              "      <td>Melinda Haynes</td>\n",
              "      <td>COMPUTER</td>\n",
              "      <td>2.000000</td>\n",
              "      <td>92.000000</td>\n",
              "      <td>42.0</td>\n",
              "      <td>3.8</td>\n",
              "      <td>1</td>\n",
              "      <td>2003-09-03</td>\n",
              "      <td>2003</td>\n",
              "      <td>9</td>\n",
              "    </tr>\n",
              "    <tr>\n",
              "      <th>781</th>\n",
              "      <td>781</td>\n",
              "      <td>Joyce Eck</td>\n",
              "      <td>MECHANICAL</td>\n",
              "      <td>58.491852</td>\n",
              "      <td>92.000000</td>\n",
              "      <td>72.7</td>\n",
              "      <td>48.0</td>\n",
              "      <td>1</td>\n",
              "      <td>2002-03-05</td>\n",
              "      <td>2002</td>\n",
              "      <td>3</td>\n",
              "    </tr>\n",
              "    <tr>\n",
              "      <th>782</th>\n",
              "      <td>782</td>\n",
              "      <td>Travis Spenser</td>\n",
              "      <td>ENTC</td>\n",
              "      <td>85.000000</td>\n",
              "      <td>86.000000</td>\n",
              "      <td>88.0</td>\n",
              "      <td>78.0</td>\n",
              "      <td>6</td>\n",
              "      <td>2002-04-04</td>\n",
              "      <td>2002</td>\n",
              "      <td>4</td>\n",
              "    </tr>\n",
              "    <tr>\n",
              "      <th>783</th>\n",
              "      <td>783</td>\n",
              "      <td>Aurora Miles</td>\n",
              "      <td>MECHANICAL</td>\n",
              "      <td>100.000000</td>\n",
              "      <td>69.000000</td>\n",
              "      <td>46.0</td>\n",
              "      <td>34.3</td>\n",
              "      <td>2</td>\n",
              "      <td>2003-05-22</td>\n",
              "      <td>2003</td>\n",
              "      <td>5</td>\n",
              "    </tr>\n",
              "  </tbody>\n",
              "</table>\n",
              "<p>689 rows × 11 columns</p>\n",
              "</div>\n",
              "      <button class=\"colab-df-convert\" onclick=\"convertToInteractive('df-5824c408-f392-4178-9136-adddebe7e3f2')\"\n",
              "              title=\"Convert this dataframe to an interactive table.\"\n",
              "              style=\"display:none;\">\n",
              "        \n",
              "  <svg xmlns=\"http://www.w3.org/2000/svg\" height=\"24px\"viewBox=\"0 0 24 24\"\n",
              "       width=\"24px\">\n",
              "    <path d=\"M0 0h24v24H0V0z\" fill=\"none\"/>\n",
              "    <path d=\"M18.56 5.44l.94 2.06.94-2.06 2.06-.94-2.06-.94-.94-2.06-.94 2.06-2.06.94zm-11 1L8.5 8.5l.94-2.06 2.06-.94-2.06-.94L8.5 2.5l-.94 2.06-2.06.94zm10 10l.94 2.06.94-2.06 2.06-.94-2.06-.94-.94-2.06-.94 2.06-2.06.94z\"/><path d=\"M17.41 7.96l-1.37-1.37c-.4-.4-.92-.59-1.43-.59-.52 0-1.04.2-1.43.59L10.3 9.45l-7.72 7.72c-.78.78-.78 2.05 0 2.83L4 21.41c.39.39.9.59 1.41.59.51 0 1.02-.2 1.41-.59l7.78-7.78 2.81-2.81c.8-.78.8-2.07 0-2.86zM5.41 20L4 18.59l7.72-7.72 1.47 1.35L5.41 20z\"/>\n",
              "  </svg>\n",
              "      </button>\n",
              "      \n",
              "  <style>\n",
              "    .colab-df-container {\n",
              "      display:flex;\n",
              "      flex-wrap:wrap;\n",
              "      gap: 12px;\n",
              "    }\n",
              "\n",
              "    .colab-df-convert {\n",
              "      background-color: #E8F0FE;\n",
              "      border: none;\n",
              "      border-radius: 50%;\n",
              "      cursor: pointer;\n",
              "      display: none;\n",
              "      fill: #1967D2;\n",
              "      height: 32px;\n",
              "      padding: 0 0 0 0;\n",
              "      width: 32px;\n",
              "    }\n",
              "\n",
              "    .colab-df-convert:hover {\n",
              "      background-color: #E2EBFA;\n",
              "      box-shadow: 0px 1px 2px rgba(60, 64, 67, 0.3), 0px 1px 3px 1px rgba(60, 64, 67, 0.15);\n",
              "      fill: #174EA6;\n",
              "    }\n",
              "\n",
              "    [theme=dark] .colab-df-convert {\n",
              "      background-color: #3B4455;\n",
              "      fill: #D2E3FC;\n",
              "    }\n",
              "\n",
              "    [theme=dark] .colab-df-convert:hover {\n",
              "      background-color: #434B5C;\n",
              "      box-shadow: 0px 1px 3px 1px rgba(0, 0, 0, 0.15);\n",
              "      filter: drop-shadow(0px 1px 2px rgba(0, 0, 0, 0.3));\n",
              "      fill: #FFFFFF;\n",
              "    }\n",
              "  </style>\n",
              "\n",
              "      <script>\n",
              "        const buttonEl =\n",
              "          document.querySelector('#df-5824c408-f392-4178-9136-adddebe7e3f2 button.colab-df-convert');\n",
              "        buttonEl.style.display =\n",
              "          google.colab.kernel.accessAllowed ? 'block' : 'none';\n",
              "\n",
              "        async function convertToInteractive(key) {\n",
              "          const element = document.querySelector('#df-5824c408-f392-4178-9136-adddebe7e3f2');\n",
              "          const dataTable =\n",
              "            await google.colab.kernel.invokeFunction('convertToInteractive',\n",
              "                                                     [key], {});\n",
              "          if (!dataTable) return;\n",
              "\n",
              "          const docLinkHtml = 'Like what you see? Visit the ' +\n",
              "            '<a target=\"_blank\" href=https://colab.research.google.com/notebooks/data_table.ipynb>data table notebook</a>'\n",
              "            + ' to learn more about interactive tables.';\n",
              "          element.innerHTML = '';\n",
              "          dataTable['output_type'] = 'display_data';\n",
              "          await google.colab.output.renderOutput(dataTable, element);\n",
              "          const docLink = document.createElement('div');\n",
              "          docLink.innerHTML = docLinkHtml;\n",
              "          element.appendChild(docLink);\n",
              "        }\n",
              "      </script>\n",
              "    </div>\n",
              "  </div>\n",
              "  "
            ],
            "text/plain": [
              "     Unnamed: 0       Student Name  Department     Physics  Mathematics  \\\n",
              "0             0       Theresa Blue    COMPUTER   62.000000     4.000000   \n",
              "3             3      Diane Griffin        ENTC   58.000000    69.000000   \n",
              "6             6  Darnell Arredondo    COMPUTER   72.000000    30.000000   \n",
              "7             7        Twyla Brown    COMPUTER   47.000000    46.600000   \n",
              "8             8       Fernando Lai    COMPUTER   58.491852     4.000000   \n",
              "..          ...                ...         ...         ...          ...   \n",
              "777         777     Michelle Brown    COMPUTER   58.491852    55.071655   \n",
              "779         779     Melinda Haynes    COMPUTER    2.000000    92.000000   \n",
              "781         781          Joyce Eck  MECHANICAL   58.491852    92.000000   \n",
              "782         782     Travis Spenser        ENTC   85.000000    86.000000   \n",
              "783         783       Aurora Miles  MECHANICAL  100.000000    69.000000   \n",
              "\n",
              "     Chemistry    AI  Term Work        DOB  Birth_Year  Birth_months  \n",
              "0         64.1  74.0          8 2003-02-19        2003             2  \n",
              "3         53.0  21.6          7 2001-04-05        2001             4  \n",
              "6         20.0  19.1         10 2003-05-14        2003             5  \n",
              "7         61.6  85.0          9 2003-04-03        2003             4  \n",
              "8         68.2  33.2          2 2002-03-28        2002             3  \n",
              "..         ...   ...        ...        ...         ...           ...  \n",
              "777       37.0  27.1          3 2002-02-03        2002             2  \n",
              "779       42.0   3.8          1 2003-09-03        2003             9  \n",
              "781       72.7  48.0          1 2002-03-05        2002             3  \n",
              "782       88.0  78.0          6 2002-04-04        2002             4  \n",
              "783       46.0  34.3          2 2003-05-22        2003             5  \n",
              "\n",
              "[689 rows x 11 columns]"
            ]
          },
          "execution_count": 33,
          "metadata": {},
          "output_type": "execute_result"
        }
      ],
      "source": [
        "df"
      ]
    },
    {
      "cell_type": "code",
      "execution_count": null,
      "metadata": {
        "id": "piPDyZ8Zl-Du"
      },
      "outputs": [],
      "source": []
    }
  ],
  "metadata": {
    "colab": {
      "authorship_tag": "ABX9TyNiXj9sWnJJwUz6GVgt42m/",
      "provenance": []
    },
    "kernelspec": {
      "display_name": "Python 3",
      "name": "python3"
    },
    "language_info": {
      "name": "python"
    }
  },
  "nbformat": 4,
  "nbformat_minor": 0
}
